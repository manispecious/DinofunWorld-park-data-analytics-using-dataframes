{
 "cells": [
  {
   "cell_type": "markdown",
   "metadata": {},
   "source": [
    "# Assignment 1: Dino Fun World\n",
    "\n",
    "You, in your role as a burgeoning data explorer and visualizer, have been asked by the administrators of a small amusement park in your hometown to answer a couple questions about their park operations. In order to perform the requested analysis, they have provided you with a database containing information about one day of the park's operations.\n",
    "\n",
    "### Provided Database\n",
    "\n",
    "The database provided by the park administration is formatted to be readable by any SQL database library. The course staff recommends the sqlite3 library. The database contains three tables, named 'checkins', 'attractions', and 'sequences'. The information contained in each of these tables is listed below:\n",
    "\n",
    "`checkins`:\n",
    "    - Description: check-in data for all visitors for the day in the park. The data includes two types of check-ins, inferred and actual checkins.\n",
    "    - Fields: visitorID, timestamp, attraction, duration, type\n",
    "`attraction`:\n",
    "    - The attractions in the park by their corresponding AttractionID, Name, Region, Category, and type. Regions are from the VAST Challenge map such as Coaster Alley, Tundra Land, etc. Categories include Thrill rides, Kiddie Rides, etc. Type is broken into Outdoor Coaster, Other Ride, Carussel, etc.\n",
    "    - Fields: AttractionID, Name, Region, Category, type\n",
    "`sequences`:\n",
    "    - The check-in sequences of visitors. These sequences list the position of each visitor to the park every five minutes. If the visitor has not entered the part yet, the sequence has a value of 0 for that time interval. If the visitor is in the park, the sequence lists the attraction they have most recently checked in to until they check in to a new one or leave the park.\n",
    "    - Fields: visitorID, sequence\n",
    "    \n",
    "The database is named 'dinofunworld.db' and is located in the 'readonly' directory of the Jupyter Notebook environment. It can be accessed at 'readonly/dinofunworld.db'.\n",
    "\n",
    "### Questions to Answer\n",
    "\n",
    "The administrators would like you to answer four relatively simple questions about the park activities on the day in question. These questions all deal with park operations and can be answered using the data provided.\n",
    "\n",
    "Question 1: What is the most popular attraction to visit in the park?\n",
    "Question 2: What ride (note that not all attractions are rides) has the longest visit time?\n",
    "Question 3: Which Fast Food offering has the fewest visitors?\n",
    "Question 4: Compute the Skyline of number of visits and visit time for the park's ride and report the rides that appear in the Skyline.\n",
    "\n",
    "#### Administrative Notes\n",
    "\n",
    "This assignment will be graded by Coursera's grading system. In order for your answers to be correctly registered in the system, you must place the code for your answers in the cell indicated for each question. In addition, you should submit the assignment with the output of the code in the cell's display area. The display area should contain only your answer to the question with no extraneous information, or else the answer may not be picked up correctly. Each cell that is going to be graded has a set of comment lines at the beginning of the cell. These lines are extremely important and must not be modified or removed."
   ]
  },
  {
   "cell_type": "code",
   "execution_count": 8,
   "metadata": {
    "scrolled": false
   },
   "outputs": [
    {
     "data": {
      "text/html": [
       "<div>\n",
       "<style scoped>\n",
       "    .dataframe tbody tr th:only-of-type {\n",
       "        vertical-align: middle;\n",
       "    }\n",
       "\n",
       "    .dataframe tbody tr th {\n",
       "        vertical-align: top;\n",
       "    }\n",
       "\n",
       "    .dataframe thead th {\n",
       "        text-align: right;\n",
       "    }\n",
       "</style>\n",
       "<table border=\"1\" class=\"dataframe\">\n",
       "  <thead>\n",
       "    <tr style=\"text-align: right;\">\n",
       "      <th></th>\n",
       "      <th>Name</th>\n",
       "    </tr>\n",
       "  </thead>\n",
       "  <tbody>\n",
       "    <tr>\n",
       "      <th>0</th>\n",
       "      <td>Atmosfear</td>\n",
       "    </tr>\n",
       "  </tbody>\n",
       "</table>\n",
       "</div>"
      ],
      "text/plain": [
       "        Name\n",
       "0  Atmosfear"
      ]
     },
     "execution_count": 8,
     "metadata": {},
     "output_type": "execute_result"
    }
   ],
   "source": [
    "# Graded Cell\n",
    "# PartID:  NDnou\n",
    "# Question 1: What is the most popular attraction to visit in the park?\n",
    "# Notes: Your output should be the name of the attraction.\n",
    "import sqlite3,pandas\n",
    "db_connect='dinofunworld.db'\n",
    "conn=sqlite3.connect(db_connect)\n",
    "pandas.read_sql_query(\"select Name from (select count(*) total,attraction from checkin group by attraction order by total desc limit 1) a,attraction b where a.attraction=b.AttractionID\",conn)"
   ]
  },
  {
   "cell_type": "code",
   "execution_count": 6,
   "metadata": {},
   "outputs": [
    {
     "data": {
      "text/plain": [
       "'TerrorSaur'"
      ]
     },
     "execution_count": 6,
     "metadata": {},
     "output_type": "execute_result"
    }
   ],
   "source": [
    "# Graded Cell\n",
    "# PartID: FXGHp\n",
    "# Question 2: What ride (note that not all attractions are rides) has the longest average visit time?\n",
    "# Notes: Your output should be the name of the ride.\n",
    "import sqlite3,pandas\n",
    "from datetime import datetime, timedelta\n",
    "db_connect='dinofunworld.db'\n",
    "conn=sqlite3.connect(db_connect)\n",
    "cursor=conn.cursor()\n",
    "df=pandas.read_sql_query(\"select attraction,duration from checkin where  attraction in (select AttractionID from attraction where Category like '%Rides%') and duration not like '%@SD' and duration is not null\",conn)\n",
    "df1=pandas.read_sql_query(\"select count(*) as Totalvisits,attraction  from checkin where  attraction in (select AttractionID from attraction where Category like '%Rides%') and duration not like '%@SD%' and duration is not null group by attraction\",conn)\n",
    "df3=pandas.merge(df, df1, on='attraction')\n",
    "def convert_to_datetime(time):\n",
    "    t = datetime.strptime(time,\"%H:%M:%S\")\n",
    "    delta = timedelta(hours=t.hour, minutes=t.minute, seconds=t.second)\n",
    "    return delta.total_seconds()\n",
    "df['duration'] = df['duration'].apply(convert_to_datetime)\n",
    "newdf=df.groupby(['attraction']).sum()\n",
    "new1df=pandas.merge(newdf, df1, on='attraction')\n",
    "new1df['avg']=round(new1df['duration']/new1df['Totalvisits'],2)\n",
    "result=new1df.loc[new1df['avg'].idxmax()]\n",
    "attractiondf=pandas.read_sql_query(\"select Name,AttractionID from attraction where Category like '%Rides%' \",conn)\n",
    "listatt=attractiondf.values.tolist()\n",
    "res = [item for item in listatt\n",
    "  if item[1] == result.attraction]\n",
    "res[0][0]"
   ]
  },
  {
   "cell_type": "code",
   "execution_count": 7,
   "metadata": {},
   "outputs": [
    {
     "data": {
      "text/html": [
       "<div>\n",
       "<style scoped>\n",
       "    .dataframe tbody tr th:only-of-type {\n",
       "        vertical-align: middle;\n",
       "    }\n",
       "\n",
       "    .dataframe tbody tr th {\n",
       "        vertical-align: top;\n",
       "    }\n",
       "\n",
       "    .dataframe thead th {\n",
       "        text-align: right;\n",
       "    }\n",
       "</style>\n",
       "<table border=\"1\" class=\"dataframe\">\n",
       "  <thead>\n",
       "    <tr style=\"text-align: right;\">\n",
       "      <th></th>\n",
       "      <th>Name</th>\n",
       "    </tr>\n",
       "  </thead>\n",
       "  <tbody>\n",
       "    <tr>\n",
       "      <th>0</th>\n",
       "      <td>Theresaur Food Stop</td>\n",
       "    </tr>\n",
       "  </tbody>\n",
       "</table>\n",
       "</div>"
      ],
      "text/plain": [
       "                  Name\n",
       "0  Theresaur Food Stop"
      ]
     },
     "execution_count": 7,
     "metadata": {},
     "output_type": "execute_result"
    }
   ],
   "source": [
    "# Graded Cell\n",
    "# PartID: KALua\n",
    "# Question 3: Which Fast Food offering in the park has the fewest visitors?\n",
    "# Notes: Your output should be the name of the fast food offering.\n",
    "import sqlite3,pandas\n",
    "db_connect='dinofunworld.db'\n",
    "conn=sqlite3.connect(db_connect)\n",
    "pandas.read_sql_query(\"select b.Name from (select attraction as attraction,count(*) total from checkin  where  attraction in (select AttractionID  from attraction where type like '%Fast %') group by attraction order by total limit 1) a,attraction b where a.attraction=b.AttractionID\",conn)\n"
   ]
  },
  {
   "cell_type": "code",
   "execution_count": 5,
   "metadata": {},
   "outputs": [
    {
     "data": {
      "text/plain": [
       "['Wrightiraptor Mountain',\n",
       " 'Galactosaurus Rage',\n",
       " 'Keimosaurus Big Spin',\n",
       " 'Atmosfear',\n",
       " 'Dykesadactyl Thrill']"
      ]
     },
     "execution_count": 5,
     "metadata": {},
     "output_type": "execute_result"
    }
   ],
   "source": [
    "# Graded Cell\n",
    "# PartID: B0LUP\n",
    "# Question 4: Compute the Skyline of number of visits and visit time for the park's ride and \n",
    "#  report the rides that appear in the Skyline. \n",
    "# Notes: Remember that in this case, higher visits is better and lower visit times are better. \n",
    "#  Your output should be formatted as an array listing the names of the rides in the Skyline.\n",
    "import sqlite3,pandas\n",
    "from datetime import datetime, timedelta\n",
    "db_connect='dinofunworld.db'\n",
    "conn=sqlite3.connect(db_connect)\n",
    "cursor=conn.cursor()\n",
    "df=pandas.read_sql_query(\"select attraction,duration from checkin where  attraction in (select AttractionID from attraction where Category like '%Rides%') and duration not like '%@SD' and duration is not null\",conn)\n",
    "df1=pandas.read_sql_query(\"select count(*) as Totalvisits,attraction  from checkin where  attraction in (select AttractionID from attraction where Category like '%Rides%') and duration not like '%@SD%' and duration is not null group by attraction\",conn)\n",
    "df3=pandas.merge(df, df1, on='attraction')\n",
    "def convert_to_datetime(time):\n",
    "    t = datetime.strptime(time,\"%H:%M:%S\")\n",
    "    delta = timedelta(hours=t.hour, minutes=t.minute, seconds=t.second)\n",
    "    return delta.total_seconds()\n",
    "df['duration'] = df['duration'].apply(convert_to_datetime)\n",
    "newdf=df.groupby(['attraction']).sum()\n",
    "new1df=pandas.merge(newdf, df1, on='attraction')\n",
    "new1df['avg']=round(new1df['duration']/new1df['Totalvisits'],2)\n",
    "result=new1df.loc[new1df['avg'].idxmax()]\n",
    "attractiondf=pandas.read_sql_query(\"select Name,AttractionID from attraction where Category like '%Rides%' \",conn)\n",
    "listatt=attractiondf.values.tolist()\n",
    "res = [item for item in listatt\n",
    "  if item[1] == result.attraction]\n",
    "res[0][0]\n",
    "list=new1df.values.tolist()\n",
    "pd=pandas.DataFrame(columns=['attraction'])\n",
    "finalresult=[]\n",
    "for  tuple in enumerate(list):\n",
    "    count=0;\n",
    "    for  another in enumerate(list):\n",
    "       if tuple[1][2]<another[1][2] and tuple[1][3]>another[1][3]:\n",
    "         count=count+1\n",
    "    if count == 0:\n",
    "     pd=tuple[1]\n",
    "     res = [item for item in listatt\n",
    "      if item[1] == pd[0]]\n",
    "     finalresult.append(res[0][0])\n",
    "\n",
    "finalresult"
   ]
  },
  {
   "cell_type": "code",
   "execution_count": null,
   "metadata": {},
   "outputs": [],
   "source": []
  }
 ],
 "metadata": {
  "kernelspec": {
   "display_name": "Python 3",
   "language": "python",
   "name": "python3"
  },
  "language_info": {
   "codemirror_mode": {
    "name": "ipython",
    "version": 3
   },
   "file_extension": ".py",
   "mimetype": "text/x-python",
   "name": "python",
   "nbconvert_exporter": "python",
   "pygments_lexer": "ipython3",
   "version": "3.9.1"
  }
 },
 "nbformat": 4,
 "nbformat_minor": 2
}
